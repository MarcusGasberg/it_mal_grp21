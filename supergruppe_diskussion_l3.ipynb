{
 "cells": [
  {
   "cell_type": "markdown",
   "metadata": {},
   "source": [
    "# Supergruppe diskussion\n",
    "\n",
    "REVISIONS||\n",
    "---------||\n",
    "2019-0128|CEF, initial.\n",
    "2020-0295|CEF, F20 ITMAL update.\n",
    "\n",
    "## § 2 \"End-to-End Machine Learning Project\" [HOML]\n",
    "\n",
    "Genlæs kapitel (eksklusiv\"Create the Workspace\" og \"Download the Data\"), og forbered mundtlig præsentation.\n",
    "\n",
    "Lav et kort resume af de enkelte underafsnit, ca. 5 til 20 liners tekst.\n",
    "\n",
    "Husk at relater til \"The Map\":\n",
    "\n",
    "<img src=\"https://itundervisning.ase.au.dk/F20_itmal/L03/Figs/ml_supervised_map.png\" style=\"width:400px\">\n",
    "\n",
    "Kapitler (incl. underkapitler):\n",
    "\n",
    "* Look at the Big Picture\n",
    "* Get the Data (eksklusiv Create the Workspace og Download the Data),\n",
    "* Discover and Visualize the Data to Gain Insights,\n",
    "* Prepare the Data for Machine Learning Algorithms,\n",
    "* Select and Train a Model,\n",
    "* Fine-Tune Your Model,\n",
    "* Launch, Monitor, and Maintain Your System,\n",
    "* Try It Out!."
   ]
  },
  {
   "cell_type": "code",
   "execution_count": null,
   "metadata": {},
   "outputs": [],
   "source": [
    "l"
   ]
  },
  {
   "cell_type": "markdown",
   "metadata": {},
   "source": [
    "Dataset = California Housing Prices\n",
    "- Metrics: Population, median income, median housing price for each block group\n",
    "- Objective: Predict median housing prince in any district given all other metrics\n",
    "\n",
    "Før man starter undersøgelse af data anvender man en ML checklist:\n",
    "1. Definér problemet og kig på det fra det 'store perspektiv' <br/>\n",
    "2. Find substantiel data  <br/>\n",
    "3. Undersøg og analysér dataet <br/>\n",
    "4. Udarbejd dataet for at eksponere mønstre for ML algoritmen  <br/>\n",
    "5. Anvende flere modeller og udvælg de bedste baseret på tidligere undersøgelse (kvalificeret bud) <br/>\n",
    "6. Túne modellerne og kombinér dem til en løsning  <br/>\n",
    "7. Præsentér løsning  <br/>\n",
    "8. Lancér, monitorér og oprethold systemet.    <br/>\n",
    "\n",
    "#### Resume: Look at the Big Picture (Det store perspektiv)\n",
    "- Hvad er målet for produket, hvilken markedsværdi ønsker man at skabe? Modellen er ikke et mål i sig selv, hvad ønsker firmaet at udvinde fra dataet, hvilken værdi vil det skabe? Når man har fundet målet/markedsværdien modellen skal have, kan man begynde at lave kvalificeret bud på hvilken algoritme man skal anvende. <br/>\n",
    "- Det er også vigtigt at vide hvor mange ressourcer virksomheden ønsker at anvende på modellen, da nogen tager længere tid og kræver mere monitorering/opretholdes <br/>\n",
    "- **Eksemplet** Her skal man vurdere gennemsnittet på husprisen for et distrækt. Efter en kort analyse af virksomhedsproblemet og datasættet, ligger det op til et supervised learning ML-system, da alt data er labeled med den aktuelle gennemsnits pris (Man kan derfor vurderer om ML-systemet klarer så godt/skidt) - ift. vurdering af performance kan man anvende flere typer, dette i sig selv er også et analyseproblem (fx RMS). \n",
    "- Hver opmærksom på man har defineret problemet korrekt og dets kontekst - det kan være data output for ML-system skal anvendes som klassificering i stedet for fx model-based learning mv. <br/>\n",
    "\n",
    "\n",
    "\n",
    "#### Resume: Get the Data (eksklusiv Create the Workspace og Download the Data)\n",
    "- Setup coding environment Anaconda, Jupyter, Python etc. \n",
    "- Hent nødvendigt data og konvertér det til objekter som kan behandles og analyseres, datastruktur (lav fx funktion så det er let at gøre igen). Ift. eksempel er det objekt som indeholder features osv.\n",
    "- Inden man begynder at anvende data, skal man huske at lave et træningsæt og et testsæt, ca. 20% (som ikke bliver set af modellen før til sidst). Dette pga. modellen ikke skal kaliberes til test-sættet, man skal derimod heller ikke selv kigge på det, da det også vil påvirke ens brug af modellen. SÆT DET TIL SIDEN UDEN AT KIGGE PÅ DET!\n",
    "- Man skal være opmærksom på data missmatch og sampling bias + nonresponsive bias!\n",
    "- Man kan også overveje om alle subgrupper er repræsenteret (Stratified sampling)\n",
    "\n",
    "\n",
    "#### Resume: Discover and Visualize the Data to Gain Insights,\n",
    "- Undersøg/analysér træningsættet. Visulisér det og undersøg om der kan findes nogen mønstre i dataet - i eksempel plotter man densitet af befolkningen og ser om det har en forbindelse med priserne (spoiler, det har det!). \n",
    "- Undersøg korrelation mellem attributterne i dataet, er der nogen lineære tendenser? Hver opmærksom på lineære og ikke-lineære tendenser ikke er det samme. \n",
    "- Er der nogen attributter som ikke giver mening alene, men måske kan kombineres? \n",
    "\n",
    "\n",
    "#### Resume: Prepare the Data for Machine Learning Algorithms\n",
    "\n",
    "- Data cleaning: \n",
    "1. Det er ikke altid at alle attributer indeholder data, måske mangles nogen ved specifikke elementer i datasættet. Her kan man gøre flere forskellige ting, fx fjerne atributten, indsæt \"dummy data\"/median mv. \n",
    "\n",
    "2. Ikke-numerisk attributer er ofte en del af ens datasæt. Her kan man katogoriserer dem således det er muligt at samligne dem og behandle dem ift. resten af atributerne\n",
    "\n",
    "3. Hvis værdier er for store kan man med fordel anvende feature scaling med enten normalisering (min-max scaling) eller standard scaling (mean scaling)\n",
    "\n",
    "\n",
    "#### Resume: Select and Train a Model\n",
    "\n",
    "- Training\n",
    "1. Importer modellen fra sklearn.\n",
    "2. Instantier modellen.\n",
    "3. Kald fit()-funktionen på dit trænings set\n",
    "4. Profit $$$\n",
    "\n",
    "- Selecting\n",
    "1. Lav cross-validation paa trænings settet\n",
    "2. Precision/Recall/Accuracy/F1-score\n",
    "3. Prøv med forskellige modeller og sammenlign mean og std deviation\n",
    "4. Gem gode modeller, så de er nemme at genbruge\n",
    "\n",
    "#### Resume: Fine-Tune Your Model\n",
    "\n",
    "1. grid_search og randomized_search kan bruges til at afprøve mange forskellige hyper-parameter. \n",
    "2. Hvis man ikke har en idé til parametere kan man med fordel afprøve  parametre i steps af faktor 10.\n",
    "3. Hvis modellen fungerer bedst med de højest parametre er det som regel en god idé at prøve nogle højere  \n",
    "4. Evaluér din bedste model på test settet \n",
    "\n",
    "#### Resume: Launch, Monitor, and Maintain Your System\n",
    "\n",
    "1. Brug predict til at komme med forudsigelser ud fra din model.\n",
    "2. Man kan lægge et REST api op foran\n",
    "3. Evaluér data inputs\n",
    "4. Træn nye modeller ofte. Automatisering.\n",
    "5. Versionsstyr modeller / Backups af modeller \n",
    "\n",
    "#### Resume: Try It Out!.\n",
    "* Look at the Big Picture\n",
    "* Get the Data (eksklusiv Create the Workspace og Download the Data),\n",
    "* Discover and Visualize the Data to Gain Insights,\n",
    "* Prepare the Data for Machine Learning Algorithms,\n",
    "* Select and Train a Model,\n",
    "* Fine-Tune Your Model,\n",
    "* Launch, Monitor, and Maintain Your System,"
   ]
  }
 ],
 "metadata": {
  "kernelspec": {
   "display_name": "Python 3",
   "language": "python",
   "name": "python3"
  },
  "language_info": {
   "codemirror_mode": {
    "name": "ipython",
    "version": 3
   },
   "file_extension": ".py",
   "mimetype": "text/x-python",
   "name": "python",
   "nbconvert_exporter": "python",
   "pygments_lexer": "ipython3",
   "version": "3.7.4"
  },
  "varInspector": {
   "cols": {
    "lenName": 16,
    "lenType": 16,
    "lenVar": 40
   },
   "kernels_config": {
    "python": {
     "delete_cmd_postfix": "",
     "delete_cmd_prefix": "del ",
     "library": "var_list.py",
     "varRefreshCmd": "print(var_dic_list())"
    },
    "r": {
     "delete_cmd_postfix": ") ",
     "delete_cmd_prefix": "rm(",
     "library": "var_list.r",
     "varRefreshCmd": "cat(var_dic_list()) "
    }
   },
   "types_to_exclude": [
    "module",
    "function",
    "builtin_function_or_method",
    "instance",
    "_Feature"
   ],
   "window_display": false
  }
 },
 "nbformat": 4,
 "nbformat_minor": 2
}